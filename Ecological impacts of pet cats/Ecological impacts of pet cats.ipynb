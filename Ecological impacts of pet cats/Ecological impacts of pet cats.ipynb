{
 "cells": [
  {
   "cell_type": "code",
   "execution_count": 5,
   "metadata": {},
   "outputs": [],
   "source": [
    "#Importando librerías útiles\n",
    "import pandas as pd"
   ]
  },
  {
   "cell_type": "code",
   "execution_count": 6,
   "metadata": {},
   "outputs": [],
   "source": [
    "#Leer archivos\n",
    "\n",
    "cats_uk = pd.read_csv(r'C:\\Users\\luise\\OneDrive\\Documentos\\Repositorios\\EcoAnalysis\\Ecological impacts of pet cats\\cats_uk.csv')\n",
    "cats_uk_reference = pd.read_csv(r\"C:\\Users\\luise\\OneDrive\\Documentos\\Repositorios\\EcoAnalysis\\Ecological impacts of pet cats\\cats_uk_reference.csv\")\n",
    "metadata_cats_uk = pd.read_csv(r'C:\\Users\\luise\\OneDrive\\Documentos\\Repositorios\\EcoAnalysis\\Ecological impacts of pet cats\\Metadata_cats_uk.csv')\n",
    "metadata_cats_uk_reference= pd.read_csv(r\"C:\\Users\\luise\\OneDrive\\Documentos\\Repositorios\\EcoAnalysis\\Ecological impacts of pet cats\\Metadata_cats_uk_reference.csv\")"
   ]
  },
  {
   "cell_type": "code",
   "execution_count": 7,
   "metadata": {},
   "outputs": [
    {
     "name": "stdout",
     "output_type": "stream",
     "text": [
      "tag_id                       object\n",
      "event_id                      int64\n",
      "visible                        bool\n",
      "timestamp                    object\n",
      "location_long               float64\n",
      "location_lat                float64\n",
      "ground_speed                  int64\n",
      "height_above_ellipsoid      float64\n",
      "algorithm_marked_outlier       bool\n",
      "manually_marked_outlier        bool\n",
      "study_name                   object\n",
      "dtype: object\n",
      "                    variable      class  \\\n",
      "0                     tag_id  character   \n",
      "1                   event_id     double   \n",
      "2                    visible    logical   \n",
      "3                  timestamp     double   \n",
      "4              location_long     double   \n",
      "5               location_lat     double   \n",
      "6               ground_speed     double   \n",
      "7     height_above_ellipsoid     double   \n",
      "8   algorithm_marked_outlier    logical   \n",
      "9    manually_marked_outlier    logical   \n",
      "10                study_name  character   \n",
      "\n",
      "                                          description  \n",
      "0   A unique identifier for the tag, provided by t...  \n",
      "1   An identifier for the set of values associated...  \n",
      "2   Determines whether an event is visible on the ...  \n",
      "3   The date and time corresponding to a sensor me...  \n",
      "4   The geographic longitude of the location as es...  \n",
      "5   The geographic longitude of the location as es...  \n",
      "6   The estimated ground speed provided by the sen...  \n",
      "7   The estimated height above the ellipsoid, typi...  \n",
      "8   Identifies events marked as outliers using a u...  \n",
      "9   Identifies events flagged manually as outliers...  \n",
      "10                 The name of the study in Movebank.  \n"
     ]
    }
   ],
   "source": [
    "#Revisar cats_uk\n",
    "print(cats_uk.dtypes)\n",
    "print(metadata_cats_uk)\n"
   ]
  },
  {
   "cell_type": "code",
   "execution_count": 8,
   "metadata": {},
   "outputs": [
    {
     "name": "stdout",
     "output_type": "stream",
     "text": [
      "tag_id                            object\n",
      "animal_id                         object\n",
      "animal_taxon                      object\n",
      "deploy_on_date                    object\n",
      "deploy_off_date                   object\n",
      "hunt                              object\n",
      "prey_p_month                     float64\n",
      "animal_reproductive_condition     object\n",
      "animal_sex                        object\n",
      "hrs_indoors                      float64\n",
      "n_cats                             int64\n",
      "food_dry                            bool\n",
      "food_wet                            bool\n",
      "food_other                        object\n",
      "study_site                        object\n",
      "age_years                        float64\n",
      "dtype: object\n",
      "                         variable      class  \\\n",
      "0                          tag_id  character   \n",
      "1                       animal_id  character   \n",
      "2                    animal_taxon  character   \n",
      "3                  deploy_on_date     double   \n",
      "4                 deploy_off_date     double   \n",
      "5                            hunt    logical   \n",
      "6                    prey_p_month     double   \n",
      "7   animal_reproductive_condition  character   \n",
      "8                      animal_sex  character   \n",
      "9                     hrs_indoors     double   \n",
      "10                         n_cats     double   \n",
      "11                       food_dry    logical   \n",
      "12                       food_wet    logical   \n",
      "13                     food_other    logical   \n",
      "14                     study_site  character   \n",
      "15                      age_years     double   \n",
      "\n",
      "                                          description  \n",
      "0   A unique identifier for the tag, provided by t...  \n",
      "1   An individual identifier for the animal, provi...  \n",
      "2   The scientific name of the species on which th...  \n",
      "3      The timestamp when the tag deployment started.  \n",
      "4        The timestamp when the tag deployment ended.  \n",
      "5             Whether the animal was allowed to hunt.  \n",
      "6   Approximate number of prey caught by the anima...  \n",
      "7   The reproductive condition of the animal at th...  \n",
      "8               The sex of the animal, as \"m\" or \"f\".  \n",
      "9   The average number of hours which the animal w...  \n",
      "10                   The number of cats in the house.  \n",
      "11                  Whether the cat was fed dry food.  \n",
      "12                  Whether the cat was fed wet food.  \n",
      "13                Whether the cat was fed other food.  \n",
      "14  A location such as the deployment site or colo...  \n",
      "15  The age of the animal at the beginning of the ...  \n"
     ]
    }
   ],
   "source": [
    "#Revistar reference\n",
    "print(cats_uk_reference.dtypes)\n",
    "print(metadata_cats_uk_reference)\n"
   ]
  }
 ],
 "metadata": {
  "kernelspec": {
   "display_name": "Python 3",
   "language": "python",
   "name": "python3"
  },
  "language_info": {
   "codemirror_mode": {
    "name": "ipython",
    "version": 3
   },
   "file_extension": ".py",
   "mimetype": "text/x-python",
   "name": "python",
   "nbconvert_exporter": "python",
   "pygments_lexer": "ipython3",
   "version": "3.11.2"
  }
 },
 "nbformat": 4,
 "nbformat_minor": 2
}
